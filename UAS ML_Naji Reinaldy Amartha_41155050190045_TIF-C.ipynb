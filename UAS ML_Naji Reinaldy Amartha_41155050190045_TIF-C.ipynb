{
 "cells": [
  {
   "cell_type": "code",
   "execution_count": 2,
   "id": "61be0780",
   "metadata": {},
   "outputs": [],
   "source": [
    "import pandas as pd\n",
    "import numpy as np\n",
    "from scipy import stats\n",
    "from sklearn.linear_model import LogisticRegression\n",
    "from sklearn.model_selection import train_test_split\n",
    "from sklearn.cluster import KMeans\n",
    "from sklearn.metrics import confusion_matrix"
   ]
  },
  {
   "cell_type": "markdown",
   "id": "3cbf4923",
   "metadata": {},
   "source": [
    "# Load Dataset Liga120192021.csv"
   ]
  },
  {
   "cell_type": "code",
   "execution_count": 8,
   "id": "2005dd27",
   "metadata": {},
   "outputs": [],
   "source": [
    "df = pd.read_csv(r'F:\\Kuliah\\SEMESTER 7\\Machine Learning\\UAS\\Liga120192021.csv')"
   ]
  },
  {
   "cell_type": "code",
   "execution_count": 12,
   "id": "a8493325",
   "metadata": {},
   "outputs": [
    {
     "data": {
      "text/html": [
       "<div>\n",
       "<style scoped>\n",
       "    .dataframe tbody tr th:only-of-type {\n",
       "        vertical-align: middle;\n",
       "    }\n",
       "\n",
       "    .dataframe tbody tr th {\n",
       "        vertical-align: top;\n",
       "    }\n",
       "\n",
       "    .dataframe thead th {\n",
       "        text-align: right;\n",
       "    }\n",
       "</style>\n",
       "<table border=\"1\" class=\"dataframe\">\n",
       "  <thead>\n",
       "    <tr style=\"text-align: right;\">\n",
       "      <th></th>\n",
       "      <th>Tanding</th>\n",
       "      <th>Pass1</th>\n",
       "      <th>Pass2</th>\n",
       "      <th>Pass3</th>\n",
       "      <th>Pass4</th>\n",
       "      <th>Pass5</th>\n",
       "      <th>Pass6</th>\n",
       "      <th>Pass7</th>\n",
       "      <th>Pass8</th>\n",
       "      <th>Pass9</th>\n",
       "      <th>Pass10</th>\n",
       "    </tr>\n",
       "  </thead>\n",
       "  <tbody>\n",
       "    <tr>\n",
       "      <th>0</th>\n",
       "      <td>0</td>\n",
       "      <td>11</td>\n",
       "      <td>24</td>\n",
       "      <td>2</td>\n",
       "      <td>20</td>\n",
       "      <td>10</td>\n",
       "      <td>11</td>\n",
       "      <td>13</td>\n",
       "      <td>11</td>\n",
       "      <td>16</td>\n",
       "      <td>71</td>\n",
       "    </tr>\n",
       "    <tr>\n",
       "      <th>1</th>\n",
       "      <td>1</td>\n",
       "      <td>10</td>\n",
       "      <td>11</td>\n",
       "      <td>13</td>\n",
       "      <td>11</td>\n",
       "      <td>20</td>\n",
       "      <td>12</td>\n",
       "      <td>13</td>\n",
       "      <td>20</td>\n",
       "      <td>77</td>\n",
       "      <td>71</td>\n",
       "    </tr>\n",
       "    <tr>\n",
       "      <th>2</th>\n",
       "      <td>2</td>\n",
       "      <td>16</td>\n",
       "      <td>8</td>\n",
       "      <td>16</td>\n",
       "      <td>17</td>\n",
       "      <td>21</td>\n",
       "      <td>22</td>\n",
       "      <td>3</td>\n",
       "      <td>20</td>\n",
       "      <td>10</td>\n",
       "      <td>13</td>\n",
       "    </tr>\n",
       "    <tr>\n",
       "      <th>3</th>\n",
       "      <td>3</td>\n",
       "      <td>22</td>\n",
       "      <td>16</td>\n",
       "      <td>8</td>\n",
       "      <td>16</td>\n",
       "      <td>2</td>\n",
       "      <td>17</td>\n",
       "      <td>23</td>\n",
       "      <td>8</td>\n",
       "      <td>82</td>\n",
       "      <td>4</td>\n",
       "    </tr>\n",
       "    <tr>\n",
       "      <th>4</th>\n",
       "      <td>4</td>\n",
       "      <td>20</td>\n",
       "      <td>12</td>\n",
       "      <td>16</td>\n",
       "      <td>8</td>\n",
       "      <td>16</td>\n",
       "      <td>17</td>\n",
       "      <td>21</td>\n",
       "      <td>23</td>\n",
       "      <td>22</td>\n",
       "      <td>13</td>\n",
       "    </tr>\n",
       "    <tr>\n",
       "      <th>...</th>\n",
       "      <td>...</td>\n",
       "      <td>...</td>\n",
       "      <td>...</td>\n",
       "      <td>...</td>\n",
       "      <td>...</td>\n",
       "      <td>...</td>\n",
       "      <td>...</td>\n",
       "      <td>...</td>\n",
       "      <td>...</td>\n",
       "      <td>...</td>\n",
       "      <td>...</td>\n",
       "    </tr>\n",
       "    <tr>\n",
       "      <th>98</th>\n",
       "      <td>98</td>\n",
       "      <td>53</td>\n",
       "      <td>77</td>\n",
       "      <td>10</td>\n",
       "      <td>66</td>\n",
       "      <td>10</td>\n",
       "      <td>55</td>\n",
       "      <td>66</td>\n",
       "      <td>55</td>\n",
       "      <td>11</td>\n",
       "      <td>10</td>\n",
       "    </tr>\n",
       "    <tr>\n",
       "      <th>99</th>\n",
       "      <td>99</td>\n",
       "      <td>30</td>\n",
       "      <td>22</td>\n",
       "      <td>23</td>\n",
       "      <td>22</td>\n",
       "      <td>74</td>\n",
       "      <td>23</td>\n",
       "      <td>12</td>\n",
       "      <td>23</td>\n",
       "      <td>13</td>\n",
       "      <td>7</td>\n",
       "    </tr>\n",
       "    <tr>\n",
       "      <th>100</th>\n",
       "      <td>100</td>\n",
       "      <td>25</td>\n",
       "      <td>27</td>\n",
       "      <td>74</td>\n",
       "      <td>93</td>\n",
       "      <td>27</td>\n",
       "      <td>11</td>\n",
       "      <td>93</td>\n",
       "      <td>74</td>\n",
       "      <td>27</td>\n",
       "      <td>25</td>\n",
       "    </tr>\n",
       "    <tr>\n",
       "      <th>101</th>\n",
       "      <td>101</td>\n",
       "      <td>27</td>\n",
       "      <td>7</td>\n",
       "      <td>27</td>\n",
       "      <td>7</td>\n",
       "      <td>25</td>\n",
       "      <td>12</td>\n",
       "      <td>27</td>\n",
       "      <td>13</td>\n",
       "      <td>21</td>\n",
       "      <td>7</td>\n",
       "    </tr>\n",
       "    <tr>\n",
       "      <th>102</th>\n",
       "      <td>102</td>\n",
       "      <td>13</td>\n",
       "      <td>11</td>\n",
       "      <td>23</td>\n",
       "      <td>2</td>\n",
       "      <td>23</td>\n",
       "      <td>12</td>\n",
       "      <td>11</td>\n",
       "      <td>13</td>\n",
       "      <td>21</td>\n",
       "      <td>25</td>\n",
       "    </tr>\n",
       "  </tbody>\n",
       "</table>\n",
       "<p>103 rows × 11 columns</p>\n",
       "</div>"
      ],
      "text/plain": [
       "     Tanding  Pass1  Pass2  Pass3  Pass4  Pass5  Pass6  Pass7  Pass8  Pass9  \\\n",
       "0          0     11     24      2     20     10     11     13     11     16   \n",
       "1          1     10     11     13     11     20     12     13     20     77   \n",
       "2          2     16      8     16     17     21     22      3     20     10   \n",
       "3          3     22     16      8     16      2     17     23      8     82   \n",
       "4          4     20     12     16      8     16     17     21     23     22   \n",
       "..       ...    ...    ...    ...    ...    ...    ...    ...    ...    ...   \n",
       "98        98     53     77     10     66     10     55     66     55     11   \n",
       "99        99     30     22     23     22     74     23     12     23     13   \n",
       "100      100     25     27     74     93     27     11     93     74     27   \n",
       "101      101     27      7     27      7     25     12     27     13     21   \n",
       "102      102     13     11     23      2     23     12     11     13     21   \n",
       "\n",
       "     Pass10  \n",
       "0        71  \n",
       "1        71  \n",
       "2        13  \n",
       "3         4  \n",
       "4        13  \n",
       "..      ...  \n",
       "98       10  \n",
       "99        7  \n",
       "100      25  \n",
       "101       7  \n",
       "102      25  \n",
       "\n",
       "[103 rows x 11 columns]"
      ]
     },
     "execution_count": 12,
     "metadata": {},
     "output_type": "execute_result"
    }
   ],
   "source": [
    "df"
   ]
  },
  {
   "cell_type": "markdown",
   "id": "6b30edf2",
   "metadata": {},
   "source": [
    "# Klasifikasi Data Pada Kolom Pass4 terhadap Pass5"
   ]
  },
  {
   "cell_type": "code",
   "execution_count": 16,
   "id": "29abfb5a",
   "metadata": {},
   "outputs": [
    {
     "name": "stdout",
     "output_type": "stream",
     "text": [
      "Accuracy for Pass1 : 0.023809523809523808\n",
      "Accuracy for Pass2 : 0.023809523809523808\n",
      "Accuracy for Pass3 : 0.023809523809523808\n",
      "Accuracy for Pass4 : 0.023809523809523808\n",
      "Accuracy for Pass5 : 0.023809523809523808\n",
      "Accuracy for Pass6 : 0.023809523809523808\n",
      "Accuracy for Pass7 : 0.023809523809523808\n",
      "Accuracy for Pass8 : 0.023809523809523808\n",
      "Accuracy for Pass9 : 0.023809523809523808\n",
      "Accuracy for Pass10 : 0.023809523809523808\n"
     ]
    }
   ],
   "source": [
    "models = {}\n",
    "for col in df.columns[1:]:\n",
    "    x = df['Pass4'].values.reshape(-1, 1)\n",
    "    y = df['Pass5'].values\n",
    "    x_train, x_test, y_train, y_test = train_test_split(x, y, test_size=0.40, random_state=48)\n",
    "    model = LogisticRegression(max_iter=5000).fit(x_train, y_train)\n",
    "    models[col] = model\n",
    "    print(\"Accuracy for\", col, \":\", model.score(x_test, y_test))"
   ]
  },
  {
   "cell_type": "markdown",
   "id": "fc5970ea",
   "metadata": {},
   "source": [
    "# Klasifikasi Data Pada Kolom Pass8 terhadap Pass9"
   ]
  },
  {
   "cell_type": "code",
   "execution_count": 18,
   "id": "ba9e4f57",
   "metadata": {},
   "outputs": [
    {
     "name": "stdout",
     "output_type": "stream",
     "text": [
      "Accuracy for Pass1 : 0.023809523809523808\n",
      "Accuracy for Pass2 : 0.023809523809523808\n",
      "Accuracy for Pass3 : 0.023809523809523808\n",
      "Accuracy for Pass4 : 0.023809523809523808\n",
      "Accuracy for Pass5 : 0.023809523809523808\n",
      "Accuracy for Pass6 : 0.023809523809523808\n",
      "Accuracy for Pass7 : 0.023809523809523808\n",
      "Accuracy for Pass8 : 0.023809523809523808\n",
      "Accuracy for Pass9 : 0.023809523809523808\n",
      "Accuracy for Pass10 : 0.023809523809523808\n"
     ]
    }
   ],
   "source": [
    "models = {}\n",
    "for col in df.columns[1:]:\n",
    "    x = df['Pass8'].values.reshape(-1, 1)\n",
    "    y = df['Pass9'].values\n",
    "    x_train, x_test, y_train, y_test = train_test_split(x, y, test_size=0.40, random_state=48)\n",
    "    model = LogisticRegression(max_iter=5000).fit(x_train, y_train)\n",
    "    models[col] = model\n",
    "    print(\"Accuracy for\", col, \":\", model.score(x_test, y_test))"
   ]
  },
  {
   "cell_type": "markdown",
   "id": "7b348106",
   "metadata": {},
   "source": [
    "# Confusion Matrix Pada Pass4"
   ]
  },
  {
   "cell_type": "code",
   "execution_count": 19,
   "id": "867434e4",
   "metadata": {},
   "outputs": [
    {
     "name": "stdout",
     "output_type": "stream",
     "text": [
      "\n",
      "Confusion Matrix:\n",
      "[[1 2 0 0 0 0 0 0 0 0 0 0 0 0 0 0 0 0 0 0 0 0 0 0 0 0 0]\n",
      " [1 0 0 0 0 0 0 0 0 0 0 0 0 0 0 0 0 0 0 0 0 0 0 0 0 0 0]\n",
      " [0 0 0 0 0 0 0 0 0 0 0 0 0 0 0 0 0 0 0 0 0 0 0 0 0 0 0]\n",
      " [0 0 0 0 0 0 1 0 0 0 0 0 0 0 0 0 0 0 0 0 0 0 0 0 0 0 0]\n",
      " [0 1 0 0 0 0 0 1 0 0 0 0 0 0 0 0 0 0 0 0 0 0 0 0 0 0 0]\n",
      " [0 0 0 0 0 0 1 0 0 0 0 0 0 0 0 0 0 0 0 0 0 0 0 0 0 0 0]\n",
      " [0 0 0 0 0 0 0 1 0 0 0 0 1 0 0 0 0 0 0 0 0 0 0 0 0 0 0]\n",
      " [0 1 1 0 2 0 0 0 0 0 0 0 0 1 0 0 1 0 0 0 0 0 0 0 0 0 0]\n",
      " [0 0 0 0 0 0 0 1 0 0 0 0 0 0 0 0 0 0 0 0 0 0 0 0 0 0 0]\n",
      " [0 0 0 0 0 1 0 0 0 0 0 0 0 0 0 0 0 0 0 0 0 0 0 0 0 0 0]\n",
      " [0 0 0 0 0 0 0 0 0 0 0 0 1 0 0 0 0 0 0 0 1 0 0 0 0 0 0]\n",
      " [0 0 1 0 0 0 0 0 1 0 0 0 0 0 0 0 0 0 0 0 0 0 0 0 0 0 0]\n",
      " [0 0 0 0 0 0 0 0 0 0 0 0 0 0 1 0 0 0 0 0 0 0 0 0 0 0 0]\n",
      " [0 0 0 0 0 0 0 0 0 0 0 0 0 0 0 0 0 0 0 0 0 0 0 0 0 0 0]\n",
      " [0 0 0 0 0 0 0 0 1 0 0 1 0 1 0 0 0 0 0 0 0 0 0 0 0 0 0]\n",
      " [0 0 0 0 0 0 0 0 1 1 1 0 0 0 0 2 0 0 0 0 0 0 0 0 0 0 0]\n",
      " [0 0 0 0 0 0 0 0 0 0 0 0 0 0 0 0 0 0 0 0 0 0 0 0 0 0 0]\n",
      " [0 0 0 0 0 0 0 0 0 0 0 0 0 0 0 0 0 0 0 0 0 0 0 1 0 0 0]\n",
      " [0 0 0 0 0 0 0 0 0 0 0 0 0 0 0 1 0 0 0 0 0 0 0 0 0 0 0]\n",
      " [0 0 0 0 0 0 0 0 0 0 0 0 0 0 0 0 0 0 0 0 1 0 0 0 0 0 0]\n",
      " [0 0 0 0 0 0 0 0 1 0 0 0 0 0 0 0 0 0 0 0 0 0 0 0 0 0 0]\n",
      " [0 0 0 0 0 0 0 0 0 0 0 0 0 0 0 0 0 0 0 0 0 0 1 0 0 0 0]\n",
      " [0 0 0 0 0 0 0 0 0 0 0 0 0 0 0 0 0 0 0 0 0 0 0 0 1 0 0]\n",
      " [0 0 0 0 0 0 0 0 0 0 0 0 0 0 0 0 0 0 0 0 0 0 0 0 0 0 0]\n",
      " [0 0 0 0 0 0 0 0 0 0 0 0 0 0 0 0 0 0 0 0 0 0 0 0 0 0 0]\n",
      " [0 0 0 0 0 0 0 0 0 0 0 0 0 0 0 0 0 0 0 0 0 0 0 1 0 0 0]\n",
      " [0 0 0 0 0 0 0 0 0 0 0 0 0 0 0 0 0 0 0 0 0 0 0 1 0 0 1]]\n"
     ]
    }
   ],
   "source": [
    "x = df.iloc[:, 1:].values\n",
    "y = df['Pass4'].values\n",
    "x_train, x_test, y_train, y_test = train_test_split(x, y, test_size=40, random_state=48)\n",
    "model = LogisticRegression(max_iter=10000).fit(x_train, y_train)\n",
    "y_pred = model.predict(x_test)\n",
    "print(\"\\nConfusion Matrix:\")\n",
    "print(confusion_matrix(y_test, y_pred))"
   ]
  },
  {
   "cell_type": "markdown",
   "id": "ab793c7a",
   "metadata": {},
   "source": [
    "# Confusion Matrix Pada Pass8"
   ]
  },
  {
   "cell_type": "code",
   "execution_count": 20,
   "id": "594a7c21",
   "metadata": {},
   "outputs": [
    {
     "name": "stdout",
     "output_type": "stream",
     "text": [
      "\n",
      "Confusion Matrix:\n",
      "[[1 0 0 0 0 0 0 0 0 0 0 0 0 0 0 0 0 0 0 0 0 0]\n",
      " [1 0 0 1 0 0 0 0 0 0 0 0 0 0 0 0 0 0 0 0 0 0]\n",
      " [0 1 0 1 0 0 0 0 0 0 0 0 0 0 0 0 0 0 0 0 0 0]\n",
      " [0 0 0 0 0 1 0 0 0 0 0 1 0 0 0 0 0 0 0 0 0 0]\n",
      " [0 0 0 0 0 0 0 1 0 0 0 0 0 0 0 0 0 0 0 0 0 0]\n",
      " [0 0 0 1 0 1 1 0 1 0 1 0 0 0 0 0 1 0 0 0 0 0]\n",
      " [0 1 0 0 0 0 0 0 0 0 0 0 0 0 0 0 0 0 0 0 0 0]\n",
      " [0 1 0 0 0 0 0 0 0 0 0 0 0 0 0 1 0 0 0 0 0 0]\n",
      " [0 0 0 0 0 0 1 1 0 0 0 0 1 0 0 0 0 0 0 0 0 0]\n",
      " [0 1 0 0 0 1 0 0 0 0 0 0 0 0 0 0 0 0 0 0 0 0]\n",
      " [0 0 0 0 0 0 0 0 0 0 0 1 0 0 0 0 0 0 0 1 0 0]\n",
      " [0 1 0 0 0 0 0 0 0 0 0 1 0 0 0 0 0 0 0 0 0 0]\n",
      " [0 0 0 0 0 0 0 0 0 0 0 0 0 0 0 0 0 0 0 0 0 0]\n",
      " [0 0 0 0 0 0 0 0 2 0 2 0 0 0 0 0 0 0 0 0 0 0]\n",
      " [0 0 0 0 0 0 1 0 0 0 0 0 0 0 0 0 0 0 0 0 0 0]\n",
      " [0 0 0 0 0 0 1 0 0 0 0 0 0 0 0 0 0 0 0 0 0 0]\n",
      " [0 0 0 0 0 0 0 0 0 0 0 0 0 0 0 0 0 0 0 0 0 0]\n",
      " [0 0 0 0 0 0 0 0 0 0 0 0 0 0 0 0 0 0 1 0 0 0]\n",
      " [0 0 0 0 0 0 0 0 0 0 1 0 0 0 0 2 0 0 1 0 0 0]\n",
      " [0 0 0 0 0 0 0 0 0 0 0 0 0 0 0 0 0 0 0 1 0 0]\n",
      " [0 0 0 0 0 0 0 0 0 0 1 0 0 0 0 0 0 0 0 0 0 0]\n",
      " [0 0 0 0 0 0 0 0 0 0 1 0 0 0 0 0 0 0 0 0 0 0]]\n"
     ]
    }
   ],
   "source": [
    "x = df.iloc[:, 1:].values\n",
    "y = df['Pass8'].values\n",
    "x_train, x_test, y_train, y_test = train_test_split(x, y, test_size=40, random_state=48)\n",
    "model = LogisticRegression(max_iter=10000).fit(x_train, y_train)\n",
    "y_pred = model.predict(x_test)\n",
    "print(\"\\nConfusion Matrix:\")\n",
    "print(confusion_matrix(y_test, y_pred))"
   ]
  },
  {
   "cell_type": "markdown",
   "id": "de583955",
   "metadata": {},
   "source": [
    "# Clustering 2 Model Kolom"
   ]
  },
  {
   "cell_type": "code",
   "execution_count": 21,
   "id": "0f321fbf",
   "metadata": {},
   "outputs": [
    {
     "name": "stdout",
     "output_type": "stream",
     "text": [
      "\n",
      "Cluster Center:\n",
      "[[21.62820513 23.97435897 23.23076923 22.71794872 24.15384615 14.94871795\n",
      "  25.33333333 19.62820513 34.12820513 27.35897436]\n",
      " [28.72       24.08       22.16       38.16       19.92       80.44\n",
      "  35.16       43.68       16.2        25.56      ]]\n"
     ]
    },
    {
     "name": "stderr",
     "output_type": "stream",
     "text": [
      "C:\\Users\\Naji\\AppData\\Local\\Programs\\Python\\Python311\\Lib\\site-packages\\sklearn\\cluster\\_kmeans.py:870: FutureWarning: The default value of `n_init` will change from 10 to 'auto' in 1.4. Set the value of `n_init` explicitly to suppress the warning\n",
      "  warnings.warn(\n"
     ]
    }
   ],
   "source": [
    "x = df.iloc[:, 1:].values\n",
    "kmeans = KMeans(n_clusters=2, random_state=0).fit(x)\n",
    "print(\"\\nCluster Center:\")\n",
    "print(kmeans.cluster_centers_)"
   ]
  },
  {
   "cell_type": "code",
   "execution_count": 23,
   "id": "196ddad3",
   "metadata": {},
   "outputs": [
    {
     "ename": "IndentationError",
     "evalue": "expected an indented block after 'for' statement on line 8 (2166405867.py, line 9)",
     "output_type": "error",
     "traceback": [
      "\u001b[1;36m  Cell \u001b[1;32mIn [23], line 9\u001b[1;36m\u001b[0m\n\u001b[1;33m    plt.scatter(x[y_pred == i, 0], x[y_pred ==i, 1], s=30, c=colors[i], label='cluster' + str(i+1))\u001b[0m\n\u001b[1;37m    ^\u001b[0m\n\u001b[1;31mIndentationError\u001b[0m\u001b[1;31m:\u001b[0m expected an indented block after 'for' statement on line 8\n"
     ]
    }
   ],
   "source": [
    "from sklearn.cluster import AgglomerativeClustering\n",
    "import matplotlib.pyplot as plt\n",
    "x = df.iloc[:, :-1].values\n",
    "k = 2\n",
    "agg_clustering = agglomerativeClustering(n_cluster=k)\n",
    "y_pred = agg_clustering.fit_predict(x)\n",
    "colors = ['blue', 'green']\n",
    "for i in range(k):\n",
    "plt.scatter(x[y_pred == i, 0], x[y_pred ==i, 1], s=30, c=colors[i], label='cluster' + str(i+1))\n",
    "plt.legend()\n",
    "plt.show"
   ]
  },
  {
   "cell_type": "code",
   "execution_count": null,
   "id": "76a0c991",
   "metadata": {},
   "outputs": [],
   "source": []
  }
 ],
 "metadata": {
  "kernelspec": {
   "display_name": "Python 3 (ipykernel)",
   "language": "python",
   "name": "python3"
  },
  "language_info": {
   "codemirror_mode": {
    "name": "ipython",
    "version": 3
   },
   "file_extension": ".py",
   "mimetype": "text/x-python",
   "name": "python",
   "nbconvert_exporter": "python",
   "pygments_lexer": "ipython3",
   "version": "3.11.0"
  }
 },
 "nbformat": 4,
 "nbformat_minor": 5
}
